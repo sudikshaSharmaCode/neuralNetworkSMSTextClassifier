{
  "nbformat": 4,
  "nbformat_minor": 0,
  "metadata": {
    "colab": {
      "provenance": []
    },
    "kernelspec": {
      "name": "python3",
      "display_name": "Python 3"
    },
    "language_info": {
      "name": "python"
    }
  },
  "cells": [
    {
      "cell_type": "code",
      "execution_count": null,
      "metadata": {
        "colab": {
          "base_uri": "https://localhost:8080/"
        },
        "id": "RHoLQj5lkRzt",
        "outputId": "20c4ee69-4de4-43de-8da6-1ee0e300975f"
      },
      "outputs": [
        {
          "output_type": "stream",
          "name": "stdout",
          "text": [
            "Epoch 1/5\n",
            "70/70 [==============================] - 41s 489ms/step - loss: 0.2587 - accuracy: 0.9206 - val_loss: 0.0855 - val_accuracy: 0.9812\n",
            "Epoch 2/5\n",
            "70/70 [==============================] - 19s 269ms/step - loss: 0.0463 - accuracy: 0.9883 - val_loss: 0.0442 - val_accuracy: 0.9883\n",
            "Epoch 3/5\n",
            "70/70 [==============================] - 17s 243ms/step - loss: 0.0195 - accuracy: 0.9953 - val_loss: 0.0382 - val_accuracy: 0.9883\n",
            "Epoch 4/5\n",
            "64/70 [==========================>...] - ETA: 1s - loss: 0.0112 - accuracy: 0.9973"
          ]
        }
      ],
      "source": [
        "import pandas as pd\n",
        "import numpy as np\n",
        "from sklearn.model_selection import train_test_split\n",
        "from sklearn.preprocessing import LabelEncoder\n",
        "from keras.preprocessing.text import Tokenizer\n",
        "from keras.preprocessing.sequence import pad_sequences\n",
        "from keras.models import Sequential\n",
        "from keras.layers import Embedding, LSTM, Dense, Dropout\n",
        "\n",
        "# Load the dataset\n",
        "data = pd.read_csv('https://raw.githubusercontent.com/stedy/Machine-Learning-with-R-datasets/master/sms_spam.csv')\n",
        "\n",
        "# Encode the labels: ham -> 0, spam -> 1\n",
        "le = LabelEncoder()\n",
        "data['type'] = le.fit_transform(data['type'])\n",
        "\n",
        "# Split the data into training and test sets\n",
        "X_train, X_test, y_train, y_test = train_test_split(data['text'], data['type'], test_size=0.2, random_state=42)\n",
        "\n",
        "# Tokenize the text\n",
        "tokenizer = Tokenizer(num_words=5000)\n",
        "tokenizer.fit_on_texts(X_train)\n",
        "X_train_seq = tokenizer.texts_to_sequences(X_train)\n",
        "X_test_seq = tokenizer.texts_to_sequences(X_test)\n",
        "\n",
        "# Pad the sequences\n",
        "max_len = 100\n",
        "X_train_pad = pad_sequences(X_train_seq, maxlen=max_len)\n",
        "X_test_pad = pad_sequences(X_test_seq, maxlen=max_len)\n",
        "\n",
        "# Define the model\n",
        "model = Sequential()\n",
        "model.add(Embedding(input_dim=5000, output_dim=128, input_length=max_len))\n",
        "model.add(LSTM(64, dropout=0.2, recurrent_dropout=0.2))\n",
        "model.add(Dense(1, activation='sigmoid'))\n",
        "\n",
        "# Compile the model\n",
        "model.compile(loss='binary_crossentropy', optimizer='adam', metrics=['accuracy'])\n",
        "\n",
        "# Train the model\n",
        "model.fit(X_train_pad, y_train, epochs=5, batch_size=64, validation_data=(X_test_pad, y_test))\n",
        "\n",
        "# Evaluate the model\n",
        "loss, accuracy = model.evaluate(X_test_pad, y_test)\n",
        "print(f'Accuracy: {accuracy*100:.2f}%')\n",
        "\n",
        "# Define the predict_message function\n",
        "def predict_message(message):\n",
        "    # Tokenize and pad the message\n",
        "    message_seq = tokenizer.texts_to_sequences([message])\n",
        "    message_pad = pad_sequences(message_seq, maxlen=max_len)\n",
        "\n",
        "    # Predict using the model\n",
        "    prediction = model.predict(message_pad)[0][0]\n",
        "\n",
        "    # Determine the class\n",
        "    label = \"spam\" if prediction > 0.5 else \"ham\"\n",
        "    probability = float(prediction) if label == \"spam\" else 1 - float(prediction)\n",
        "\n",
        "    return [probability, label]\n",
        "\n",
        "# Example usage\n",
        "print(predict_message(\"Congratulations! You've won a free ticket to the Bahamas. Call now!\"))\n",
        "print(predict_message(\"Hey, are we still meeting for coffee at 4pm?\"))\n"
      ]
    }
  ]
}